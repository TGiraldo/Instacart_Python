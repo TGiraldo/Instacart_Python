{
 "cells": [
  {
   "cell_type": "markdown",
   "id": "f8c440f3",
   "metadata": {},
   "source": [
    "#Importing Libraries"
   ]
  },
  {
   "cell_type": "code",
   "execution_count": 4,
   "id": "71c2b08a",
   "metadata": {},
   "outputs": [],
   "source": [
    "#Import Libraries \n",
    "import pandas as pd\n",
    "import numpy as np\n",
    "import os"
   ]
  },
  {
   "cell_type": "markdown",
   "id": "35cb231a",
   "metadata": {},
   "source": [
    "#2 Data Types"
   ]
  },
  {
   "cell_type": "code",
   "execution_count": 6,
   "id": "d079f71a",
   "metadata": {},
   "outputs": [],
   "source": [
    "x=50"
   ]
  },
  {
   "cell_type": "code",
   "execution_count": 8,
   "id": "9df530a5",
   "metadata": {},
   "outputs": [
    {
     "data": {
      "text/plain": [
       "100"
      ]
     },
     "execution_count": 8,
     "metadata": {},
     "output_type": "execute_result"
    }
   ],
   "source": [
    "x+x"
   ]
  },
  {
   "cell_type": "code",
   "execution_count": 9,
   "id": "9c4c0b14",
   "metadata": {},
   "outputs": [],
   "source": [
    "y=150"
   ]
  },
  {
   "cell_type": "code",
   "execution_count": 10,
   "id": "83ce5274",
   "metadata": {},
   "outputs": [
    {
     "data": {
      "text/plain": [
       "100"
      ]
     },
     "execution_count": 10,
     "metadata": {},
     "output_type": "execute_result"
    }
   ],
   "source": [
    "y-x"
   ]
  },
  {
   "cell_type": "code",
   "execution_count": 11,
   "id": "4a4a527a",
   "metadata": {},
   "outputs": [
    {
     "data": {
      "text/plain": [
       "100"
      ]
     },
     "execution_count": 11,
     "metadata": {},
     "output_type": "execute_result"
    }
   ],
   "source": [
    "x*2"
   ]
  },
  {
   "cell_type": "code",
   "execution_count": 12,
   "id": "248732dc",
   "metadata": {},
   "outputs": [],
   "source": [
    "z=60"
   ]
  },
  {
   "cell_type": "code",
   "execution_count": 13,
   "id": "ed716ace",
   "metadata": {},
   "outputs": [],
   "source": [
    "w=40"
   ]
  },
  {
   "cell_type": "code",
   "execution_count": 14,
   "id": "9aa2b500",
   "metadata": {},
   "outputs": [
    {
     "data": {
      "text/plain": [
       "100"
      ]
     },
     "execution_count": 14,
     "metadata": {},
     "output_type": "execute_result"
    }
   ],
   "source": [
    "z+w"
   ]
  },
  {
   "cell_type": "code",
   "execution_count": 15,
   "id": "7643cb10",
   "metadata": {},
   "outputs": [],
   "source": [
    "a=200.346"
   ]
  },
  {
   "cell_type": "code",
   "execution_count": 16,
   "id": "981f9441",
   "metadata": {},
   "outputs": [],
   "source": [
    "b=3.1"
   ]
  },
  {
   "cell_type": "code",
   "execution_count": 17,
   "id": "44a6fc8f",
   "metadata": {},
   "outputs": [
    {
     "data": {
      "text/plain": [
       "64.62774193548387"
      ]
     },
     "execution_count": 17,
     "metadata": {},
     "output_type": "execute_result"
    }
   ],
   "source": [
    "a/b"
   ]
  },
  {
   "cell_type": "code",
   "execution_count": 20,
   "id": "af7ab261",
   "metadata": {},
   "outputs": [],
   "source": [
    "c='Ding, '"
   ]
  },
  {
   "cell_type": "code",
   "execution_count": 21,
   "id": "f6e383ae",
   "metadata": {},
   "outputs": [],
   "source": [
    "d='Dong'"
   ]
  },
  {
   "cell_type": "code",
   "execution_count": 35,
   "id": "95e79f1a",
   "metadata": {},
   "outputs": [
    {
     "data": {
      "text/plain": [
       "'DingDong'"
      ]
     },
     "execution_count": 35,
     "metadata": {},
     "output_type": "execute_result"
    }
   ],
   "source": [
    "c+d"
   ]
  },
  {
   "cell_type": "code",
   "execution_count": 37,
   "id": "b2b728e8",
   "metadata": {},
   "outputs": [
    {
     "name": "stdout",
     "output_type": "stream",
     "text": [
      "Ding Dong\n"
     ]
    }
   ],
   "source": [
    "print(c+\" \"+d)"
   ]
  },
  {
   "cell_type": "code",
   "execution_count": 39,
   "id": "44a61b95",
   "metadata": {},
   "outputs": [],
   "source": [
    "e='The'"
   ]
  },
  {
   "cell_type": "code",
   "execution_count": 41,
   "id": "dd4f1a67",
   "metadata": {},
   "outputs": [],
   "source": [
    "f= 'door'"
   ]
  },
  {
   "cell_type": "code",
   "execution_count": 42,
   "id": "e9088845",
   "metadata": {},
   "outputs": [],
   "source": [
    "g= 'rang'"
   ]
  },
  {
   "cell_type": "code",
   "execution_count": 43,
   "id": "b3381499",
   "metadata": {},
   "outputs": [
    {
     "name": "stdout",
     "output_type": "stream",
     "text": [
      "The door\n"
     ]
    }
   ],
   "source": [
    "print(e+' '+f)"
   ]
  },
  {
   "cell_type": "code",
   "execution_count": 47,
   "id": "7bf79485",
   "metadata": {},
   "outputs": [
    {
     "name": "stdout",
     "output_type": "stream",
     "text": [
      "The door rang Ding Dong\n"
     ]
    }
   ],
   "source": [
    "combined_sentence = e + \" \" + f + \" \" + g + \" \" + c + \" \" + d\n",
    "print(combined_sentence)"
   ]
  },
  {
   "cell_type": "code",
   "execution_count": 51,
   "id": "d0d81543",
   "metadata": {},
   "outputs": [
    {
     "name": "stdout",
     "output_type": "stream",
     "text": [
      "Ding Dong, rang The door\n"
     ]
    }
   ],
   "source": [
    "combined_sentence = c + \" \" + d + \", \" + g + \" \" + e + \" \" + f\n",
    "print(combined_sentence)"
   ]
  },
  {
   "cell_type": "code",
   "execution_count": null,
   "id": "bbf19593",
   "metadata": {},
   "outputs": [],
   "source": []
  }
 ],
 "metadata": {
  "kernelspec": {
   "display_name": "Python 3 (ipykernel)",
   "language": "python",
   "name": "python3"
  },
  "language_info": {
   "codemirror_mode": {
    "name": "ipython",
    "version": 3
   },
   "file_extension": ".py",
   "mimetype": "text/x-python",
   "name": "python",
   "nbconvert_exporter": "python",
   "pygments_lexer": "ipython3",
   "version": "3.11.5"
  }
 },
 "nbformat": 4,
 "nbformat_minor": 5
}
