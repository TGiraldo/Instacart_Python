{
 "cells": [
  {
   "cell_type": "markdown",
   "id": "c6a654f2",
   "metadata": {},
   "source": [
    "Part 1 of Task"
   ]
  },
  {
   "cell_type": "code",
   "execution_count": 2,
   "id": "ca25864e",
   "metadata": {},
   "outputs": [],
   "source": [
    "# Import libraries\n",
    "\n",
    "import pandas as pd\n",
    "import numpy as np\n",
    "import os\n",
    "import matplotlib.pyplot as plt\n",
    "import seaborn as sns\n",
    "import scipy\n",
    "pd.options.display.max_columns = 100"
   ]
  },
  {
   "cell_type": "code",
   "execution_count": 3,
   "id": "71887144",
   "metadata": {},
   "outputs": [],
   "source": [
    "#Setting path location to import data set\n",
    "path = r'/Users/thaliagiraldo/Documents/Nov 2023 Instacart Basket Analysis'"
   ]
  },
  {
   "cell_type": "code",
   "execution_count": 4,
   "id": "c298b2b6",
   "metadata": {},
   "outputs": [],
   "source": [
    "#Import Data Set\n",
    "\n",
    "customers = pd.read_csv(os.path.join(path,'02 Data','Original Data','customers.csv'))"
   ]
  },
  {
   "cell_type": "code",
   "execution_count": 5,
   "id": "8040541e",
   "metadata": {},
   "outputs": [],
   "source": [
    "#Renaming columns for clarity\n",
    "customers.rename(columns = {'Surnam' : 'Last_Name'}, inplace = True)\n",
    "customers.rename(columns = {'STATE' : 'State'}, inplace = True)\n",
    "customers.rename(columns = {'First Name' : 'First_Name'}, inplace = True)"
   ]
  },
  {
   "cell_type": "code",
   "execution_count": 6,
   "id": "4d588181",
   "metadata": {},
   "outputs": [],
   "source": [
    "#Capitalizing first letter for consistency\n",
    "customers.columns = [col.capitalize() for col in customers.columns]"
   ]
  },
  {
   "cell_type": "code",
   "execution_count": 7,
   "id": "000c2c3e",
   "metadata": {},
   "outputs": [
    {
     "data": {
      "text/html": [
       "<div>\n",
       "<style scoped>\n",
       "    .dataframe tbody tr th:only-of-type {\n",
       "        vertical-align: middle;\n",
       "    }\n",
       "\n",
       "    .dataframe tbody tr th {\n",
       "        vertical-align: top;\n",
       "    }\n",
       "\n",
       "    .dataframe thead th {\n",
       "        text-align: right;\n",
       "    }\n",
       "</style>\n",
       "<table border=\"1\" class=\"dataframe\">\n",
       "  <thead>\n",
       "    <tr style=\"text-align: right;\">\n",
       "      <th></th>\n",
       "      <th>User_id</th>\n",
       "      <th>First_name</th>\n",
       "      <th>Last_name</th>\n",
       "      <th>Gender</th>\n",
       "      <th>State</th>\n",
       "      <th>Age</th>\n",
       "      <th>Date_joined</th>\n",
       "      <th>N_dependants</th>\n",
       "      <th>Fam_status</th>\n",
       "      <th>Income</th>\n",
       "    </tr>\n",
       "  </thead>\n",
       "  <tbody>\n",
       "    <tr>\n",
       "      <th>0</th>\n",
       "      <td>26711</td>\n",
       "      <td>Deborah</td>\n",
       "      <td>Esquivel</td>\n",
       "      <td>Female</td>\n",
       "      <td>Missouri</td>\n",
       "      <td>48</td>\n",
       "      <td>1/1/2017</td>\n",
       "      <td>3</td>\n",
       "      <td>married</td>\n",
       "      <td>165665</td>\n",
       "    </tr>\n",
       "    <tr>\n",
       "      <th>1</th>\n",
       "      <td>33890</td>\n",
       "      <td>Patricia</td>\n",
       "      <td>Hart</td>\n",
       "      <td>Female</td>\n",
       "      <td>New Mexico</td>\n",
       "      <td>36</td>\n",
       "      <td>1/1/2017</td>\n",
       "      <td>0</td>\n",
       "      <td>single</td>\n",
       "      <td>59285</td>\n",
       "    </tr>\n",
       "    <tr>\n",
       "      <th>2</th>\n",
       "      <td>65803</td>\n",
       "      <td>Kenneth</td>\n",
       "      <td>Farley</td>\n",
       "      <td>Male</td>\n",
       "      <td>Idaho</td>\n",
       "      <td>35</td>\n",
       "      <td>1/1/2017</td>\n",
       "      <td>2</td>\n",
       "      <td>married</td>\n",
       "      <td>99568</td>\n",
       "    </tr>\n",
       "    <tr>\n",
       "      <th>3</th>\n",
       "      <td>125935</td>\n",
       "      <td>Michelle</td>\n",
       "      <td>Hicks</td>\n",
       "      <td>Female</td>\n",
       "      <td>Iowa</td>\n",
       "      <td>40</td>\n",
       "      <td>1/1/2017</td>\n",
       "      <td>0</td>\n",
       "      <td>single</td>\n",
       "      <td>42049</td>\n",
       "    </tr>\n",
       "    <tr>\n",
       "      <th>4</th>\n",
       "      <td>130797</td>\n",
       "      <td>Ann</td>\n",
       "      <td>Gilmore</td>\n",
       "      <td>Female</td>\n",
       "      <td>Maryland</td>\n",
       "      <td>26</td>\n",
       "      <td>1/1/2017</td>\n",
       "      <td>1</td>\n",
       "      <td>married</td>\n",
       "      <td>40374</td>\n",
       "    </tr>\n",
       "  </tbody>\n",
       "</table>\n",
       "</div>"
      ],
      "text/plain": [
       "   User_id First_name Last_name  Gender       State  Age Date_joined  \\\n",
       "0    26711    Deborah  Esquivel  Female    Missouri   48    1/1/2017   \n",
       "1    33890   Patricia      Hart  Female  New Mexico   36    1/1/2017   \n",
       "2    65803    Kenneth    Farley    Male       Idaho   35    1/1/2017   \n",
       "3   125935   Michelle     Hicks  Female        Iowa   40    1/1/2017   \n",
       "4   130797        Ann   Gilmore  Female    Maryland   26    1/1/2017   \n",
       "\n",
       "   N_dependants Fam_status  Income  \n",
       "0             3    married  165665  \n",
       "1             0     single   59285  \n",
       "2             2    married   99568  \n",
       "3             0     single   42049  \n",
       "4             1    married   40374  "
      ]
     },
     "execution_count": 7,
     "metadata": {},
     "output_type": "execute_result"
    }
   ],
   "source": [
    "customers.head()"
   ]
  },
  {
   "cell_type": "code",
   "execution_count": 10,
   "id": "4afa01f1",
   "metadata": {},
   "outputs": [
    {
     "data": {
      "text/plain": [
       "(206209, 10)"
      ]
     },
     "execution_count": 10,
     "metadata": {},
     "output_type": "execute_result"
    }
   ],
   "source": [
    "customers.shape"
   ]
  },
  {
   "cell_type": "code",
   "execution_count": 11,
   "id": "30a1a8be",
   "metadata": {},
   "outputs": [
    {
     "name": "stdout",
     "output_type": "stream",
     "text": [
      "count                           206209\n",
      "mean     2018-08-17 03:06:30.029532928\n",
      "min                2017-01-01 00:00:00\n",
      "25%                2017-10-23 00:00:00\n",
      "50%                2018-08-16 00:00:00\n",
      "75%                2019-06-10 00:00:00\n",
      "max                2020-04-01 00:00:00\n",
      "Name: Date_joined, dtype: object\n"
     ]
    }
   ],
   "source": [
    "# Assuming 'Date_joined' is currently a datetime column\n",
    "#Converting to datetime using:\n",
    "\n",
    "customers['Date_joined'] = pd.to_datetime(customers['Date_joined'])\n",
    "\n",
    "# Use describe to get numeric information about the datetime column\n",
    "date_joined_description = customers['Date_joined'].describe()\n",
    "\n",
    "# Display the results\n",
    "print(date_joined_description)\n"
   ]
  },
  {
   "cell_type": "code",
   "execution_count": 12,
   "id": "9290cd13",
   "metadata": {},
   "outputs": [
    {
     "data": {
      "text/html": [
       "<div>\n",
       "<style scoped>\n",
       "    .dataframe tbody tr th:only-of-type {\n",
       "        vertical-align: middle;\n",
       "    }\n",
       "\n",
       "    .dataframe tbody tr th {\n",
       "        vertical-align: top;\n",
       "    }\n",
       "\n",
       "    .dataframe thead th {\n",
       "        text-align: right;\n",
       "    }\n",
       "</style>\n",
       "<table border=\"1\" class=\"dataframe\">\n",
       "  <thead>\n",
       "    <tr style=\"text-align: right;\">\n",
       "      <th></th>\n",
       "      <th>User_id</th>\n",
       "      <th>Age</th>\n",
       "      <th>Date_joined</th>\n",
       "      <th>N_dependants</th>\n",
       "      <th>Income</th>\n",
       "    </tr>\n",
       "  </thead>\n",
       "  <tbody>\n",
       "    <tr>\n",
       "      <th>count</th>\n",
       "      <td>206209.000000</td>\n",
       "      <td>206209.000000</td>\n",
       "      <td>206209</td>\n",
       "      <td>206209.000000</td>\n",
       "      <td>206209.000000</td>\n",
       "    </tr>\n",
       "    <tr>\n",
       "      <th>mean</th>\n",
       "      <td>103105.000000</td>\n",
       "      <td>49.501646</td>\n",
       "      <td>2018-08-17 03:06:30.029532928</td>\n",
       "      <td>1.499823</td>\n",
       "      <td>94632.852548</td>\n",
       "    </tr>\n",
       "    <tr>\n",
       "      <th>min</th>\n",
       "      <td>1.000000</td>\n",
       "      <td>18.000000</td>\n",
       "      <td>2017-01-01 00:00:00</td>\n",
       "      <td>0.000000</td>\n",
       "      <td>25903.000000</td>\n",
       "    </tr>\n",
       "    <tr>\n",
       "      <th>25%</th>\n",
       "      <td>51553.000000</td>\n",
       "      <td>33.000000</td>\n",
       "      <td>2017-10-23 00:00:00</td>\n",
       "      <td>0.000000</td>\n",
       "      <td>59874.000000</td>\n",
       "    </tr>\n",
       "    <tr>\n",
       "      <th>50%</th>\n",
       "      <td>103105.000000</td>\n",
       "      <td>49.000000</td>\n",
       "      <td>2018-08-16 00:00:00</td>\n",
       "      <td>1.000000</td>\n",
       "      <td>93547.000000</td>\n",
       "    </tr>\n",
       "    <tr>\n",
       "      <th>75%</th>\n",
       "      <td>154657.000000</td>\n",
       "      <td>66.000000</td>\n",
       "      <td>2019-06-10 00:00:00</td>\n",
       "      <td>3.000000</td>\n",
       "      <td>124244.000000</td>\n",
       "    </tr>\n",
       "    <tr>\n",
       "      <th>max</th>\n",
       "      <td>206209.000000</td>\n",
       "      <td>81.000000</td>\n",
       "      <td>2020-04-01 00:00:00</td>\n",
       "      <td>3.000000</td>\n",
       "      <td>593901.000000</td>\n",
       "    </tr>\n",
       "    <tr>\n",
       "      <th>std</th>\n",
       "      <td>59527.555167</td>\n",
       "      <td>18.480962</td>\n",
       "      <td>NaN</td>\n",
       "      <td>1.118433</td>\n",
       "      <td>42473.786988</td>\n",
       "    </tr>\n",
       "  </tbody>\n",
       "</table>\n",
       "</div>"
      ],
      "text/plain": [
       "             User_id            Age                    Date_joined  \\\n",
       "count  206209.000000  206209.000000                         206209   \n",
       "mean   103105.000000      49.501646  2018-08-17 03:06:30.029532928   \n",
       "min         1.000000      18.000000            2017-01-01 00:00:00   \n",
       "25%     51553.000000      33.000000            2017-10-23 00:00:00   \n",
       "50%    103105.000000      49.000000            2018-08-16 00:00:00   \n",
       "75%    154657.000000      66.000000            2019-06-10 00:00:00   \n",
       "max    206209.000000      81.000000            2020-04-01 00:00:00   \n",
       "std     59527.555167      18.480962                            NaN   \n",
       "\n",
       "        N_dependants         Income  \n",
       "count  206209.000000  206209.000000  \n",
       "mean        1.499823   94632.852548  \n",
       "min         0.000000   25903.000000  \n",
       "25%         0.000000   59874.000000  \n",
       "50%         1.000000   93547.000000  \n",
       "75%         3.000000  124244.000000  \n",
       "max         3.000000  593901.000000  \n",
       "std         1.118433   42473.786988  "
      ]
     },
     "execution_count": 12,
     "metadata": {},
     "output_type": "execute_result"
    }
   ],
   "source": [
    "#Data Quality and Consistency Check -\n",
    "customers.describe()"
   ]
  },
  {
   "cell_type": "code",
   "execution_count": 13,
   "id": "98dff8cf",
   "metadata": {},
   "outputs": [
    {
     "name": "stderr",
     "output_type": "stream",
     "text": [
      "/var/folders/t7/fy2gbqpj7r54t9fzj4_6j2v80000gn/T/ipykernel_39178/2381239500.py:3: FutureWarning: DataFrame.applymap has been deprecated. Use DataFrame.map instead.\n",
      "  weird = (customers[[col]].applymap(type) != customers[[col]].iloc[0].apply(type)).any(axis = 1)\n",
      "/var/folders/t7/fy2gbqpj7r54t9fzj4_6j2v80000gn/T/ipykernel_39178/2381239500.py:3: FutureWarning: DataFrame.applymap has been deprecated. Use DataFrame.map instead.\n",
      "  weird = (customers[[col]].applymap(type) != customers[[col]].iloc[0].apply(type)).any(axis = 1)\n",
      "/var/folders/t7/fy2gbqpj7r54t9fzj4_6j2v80000gn/T/ipykernel_39178/2381239500.py:3: FutureWarning: DataFrame.applymap has been deprecated. Use DataFrame.map instead.\n",
      "  weird = (customers[[col]].applymap(type) != customers[[col]].iloc[0].apply(type)).any(axis = 1)\n",
      "/var/folders/t7/fy2gbqpj7r54t9fzj4_6j2v80000gn/T/ipykernel_39178/2381239500.py:3: FutureWarning: DataFrame.applymap has been deprecated. Use DataFrame.map instead.\n",
      "  weird = (customers[[col]].applymap(type) != customers[[col]].iloc[0].apply(type)).any(axis = 1)\n",
      "/var/folders/t7/fy2gbqpj7r54t9fzj4_6j2v80000gn/T/ipykernel_39178/2381239500.py:3: FutureWarning: DataFrame.applymap has been deprecated. Use DataFrame.map instead.\n",
      "  weird = (customers[[col]].applymap(type) != customers[[col]].iloc[0].apply(type)).any(axis = 1)\n",
      "/var/folders/t7/fy2gbqpj7r54t9fzj4_6j2v80000gn/T/ipykernel_39178/2381239500.py:3: FutureWarning: DataFrame.applymap has been deprecated. Use DataFrame.map instead.\n",
      "  weird = (customers[[col]].applymap(type) != customers[[col]].iloc[0].apply(type)).any(axis = 1)\n",
      "/var/folders/t7/fy2gbqpj7r54t9fzj4_6j2v80000gn/T/ipykernel_39178/2381239500.py:3: FutureWarning: DataFrame.applymap has been deprecated. Use DataFrame.map instead.\n",
      "  weird = (customers[[col]].applymap(type) != customers[[col]].iloc[0].apply(type)).any(axis = 1)\n"
     ]
    },
    {
     "name": "stdout",
     "output_type": "stream",
     "text": [
      "First_name\n"
     ]
    },
    {
     "name": "stderr",
     "output_type": "stream",
     "text": [
      "/var/folders/t7/fy2gbqpj7r54t9fzj4_6j2v80000gn/T/ipykernel_39178/2381239500.py:3: FutureWarning: DataFrame.applymap has been deprecated. Use DataFrame.map instead.\n",
      "  weird = (customers[[col]].applymap(type) != customers[[col]].iloc[0].apply(type)).any(axis = 1)\n",
      "/var/folders/t7/fy2gbqpj7r54t9fzj4_6j2v80000gn/T/ipykernel_39178/2381239500.py:3: FutureWarning: DataFrame.applymap has been deprecated. Use DataFrame.map instead.\n",
      "  weird = (customers[[col]].applymap(type) != customers[[col]].iloc[0].apply(type)).any(axis = 1)\n",
      "/var/folders/t7/fy2gbqpj7r54t9fzj4_6j2v80000gn/T/ipykernel_39178/2381239500.py:3: FutureWarning: DataFrame.applymap has been deprecated. Use DataFrame.map instead.\n",
      "  weird = (customers[[col]].applymap(type) != customers[[col]].iloc[0].apply(type)).any(axis = 1)\n"
     ]
    }
   ],
   "source": [
    "#Checking if any columns have mixed data types\n",
    "for col in customers.columns.tolist():\n",
    "  weird = (customers[[col]].applymap(type) != customers[[col]].iloc[0].apply(type)).any(axis = 1)\n",
    "  if len (customers[weird]) > 0:\n",
    "    print (col)"
   ]
  },
  {
   "cell_type": "code",
   "execution_count": 14,
   "id": "cc424ffe",
   "metadata": {},
   "outputs": [],
   "source": [
    "#Fixing the columns mixed data type by \n",
    "customers['First_name'] = customers['First_name'].astype('str')"
   ]
  },
  {
   "cell_type": "code",
   "execution_count": 15,
   "id": "8d9c4a86",
   "metadata": {},
   "outputs": [
    {
     "data": {
      "text/plain": [
       "User_id         0\n",
       "First_name      0\n",
       "Last_name       0\n",
       "Gender          0\n",
       "State           0\n",
       "Age             0\n",
       "Date_joined     0\n",
       "N_dependants    0\n",
       "Fam_status      0\n",
       "Income          0\n",
       "dtype: int64"
      ]
     },
     "execution_count": 15,
     "metadata": {},
     "output_type": "execute_result"
    }
   ],
   "source": [
    "#Check for missing values - there are no missing values\n",
    "customers.isnull().sum()"
   ]
  },
  {
   "cell_type": "code",
   "execution_count": 16,
   "id": "a554e856",
   "metadata": {},
   "outputs": [],
   "source": [
    "#Checking for dups\n",
    "customers_dups = customers[customers.duplicated()]"
   ]
  },
  {
   "cell_type": "code",
   "execution_count": 17,
   "id": "a0e6d536",
   "metadata": {},
   "outputs": [
    {
     "data": {
      "text/html": [
       "<div>\n",
       "<style scoped>\n",
       "    .dataframe tbody tr th:only-of-type {\n",
       "        vertical-align: middle;\n",
       "    }\n",
       "\n",
       "    .dataframe tbody tr th {\n",
       "        vertical-align: top;\n",
       "    }\n",
       "\n",
       "    .dataframe thead th {\n",
       "        text-align: right;\n",
       "    }\n",
       "</style>\n",
       "<table border=\"1\" class=\"dataframe\">\n",
       "  <thead>\n",
       "    <tr style=\"text-align: right;\">\n",
       "      <th></th>\n",
       "      <th>User_id</th>\n",
       "      <th>First_name</th>\n",
       "      <th>Last_name</th>\n",
       "      <th>Gender</th>\n",
       "      <th>State</th>\n",
       "      <th>Age</th>\n",
       "      <th>Date_joined</th>\n",
       "      <th>N_dependants</th>\n",
       "      <th>Fam_status</th>\n",
       "      <th>Income</th>\n",
       "    </tr>\n",
       "  </thead>\n",
       "  <tbody>\n",
       "  </tbody>\n",
       "</table>\n",
       "</div>"
      ],
      "text/plain": [
       "Empty DataFrame\n",
       "Columns: [User_id, First_name, Last_name, Gender, State, Age, Date_joined, N_dependants, Fam_status, Income]\n",
       "Index: []"
      ]
     },
     "execution_count": 17,
     "metadata": {},
     "output_type": "execute_result"
    }
   ],
   "source": [
    "#no dups!\n",
    "customers_dups"
   ]
  },
  {
   "cell_type": "code",
   "execution_count": 18,
   "id": "162a7635",
   "metadata": {},
   "outputs": [
    {
     "data": {
      "text/plain": [
       "51"
      ]
     },
     "execution_count": 18,
     "metadata": {},
     "output_type": "execute_result"
    }
   ],
   "source": [
    "customers['State'].nunique()"
   ]
  },
  {
   "cell_type": "code",
   "execution_count": 19,
   "id": "eb40393a",
   "metadata": {},
   "outputs": [],
   "source": [
    "# Check unique values in the 'Gender' column\n",
    "unique_genders = customers['Gender'].unique()"
   ]
  },
  {
   "cell_type": "code",
   "execution_count": 20,
   "id": "836b209e",
   "metadata": {},
   "outputs": [
    {
     "data": {
      "text/plain": [
       "array(['Female', 'Male'], dtype=object)"
      ]
     },
     "execution_count": 20,
     "metadata": {},
     "output_type": "execute_result"
    }
   ],
   "source": [
    "unique_genders"
   ]
  },
  {
   "cell_type": "code",
   "execution_count": 21,
   "id": "5f5283b1",
   "metadata": {},
   "outputs": [],
   "source": [
    "# Check unique values in the 'State' column\n",
    "unique_states = customers['State'].unique()"
   ]
  },
  {
   "cell_type": "code",
   "execution_count": 22,
   "id": "61260836",
   "metadata": {},
   "outputs": [
    {
     "data": {
      "text/plain": [
       "array(['Alabama', 'Alaska', 'Arizona', 'Arkansas', 'California',\n",
       "       'Colorado', 'Connecticut', 'Delaware', 'District of Columbia',\n",
       "       'Florida', 'Georgia', 'Hawaii', 'Idaho', 'Illinois', 'Indiana',\n",
       "       'Iowa', 'Kansas', 'Kentucky', 'Louisiana', 'Maine', 'Maryland',\n",
       "       'Massachusetts', 'Michigan', 'Minnesota', 'Mississippi',\n",
       "       'Missouri', 'Montana', 'Nebraska', 'Nevada', 'New Hampshire',\n",
       "       'New Jersey', 'New Mexico', 'New York', 'North Carolina',\n",
       "       'North Dakota', 'Ohio', 'Oklahoma', 'Oregon', 'Pennsylvania',\n",
       "       'Rhode Island', 'South Carolina', 'South Dakota', 'Tennessee',\n",
       "       'Texas', 'Utah', 'Vermont', 'Virginia', 'Washington',\n",
       "       'West Virginia', 'Wisconsin', 'Wyoming'], dtype=object)"
      ]
     },
     "execution_count": 22,
     "metadata": {},
     "output_type": "execute_result"
    }
   ],
   "source": [
    "# Sorted to check for dups and errors in names - no issue\n",
    "np.sort(unique_states)"
   ]
  },
  {
   "cell_type": "code",
   "execution_count": null,
   "id": "40aa936b",
   "metadata": {},
   "outputs": [],
   "source": [
    "customers.shape"
   ]
  },
  {
   "cell_type": "code",
   "execution_count": 23,
   "id": "e68e7b15",
   "metadata": {},
   "outputs": [],
   "source": [
    "#Import the latest dataset \n",
    "\n",
    "ords_prods_merged = pd.read_pickle(os.path.join(path,'02 Data','Prepared Data','ords_prods_merged_update.pkl'))"
   ]
  },
  {
   "cell_type": "code",
   "execution_count": 24,
   "id": "e46d6a68",
   "metadata": {},
   "outputs": [
    {
     "data": {
      "text/plain": [
       "dtype('int64')"
      ]
     },
     "execution_count": 24,
     "metadata": {},
     "output_type": "execute_result"
    }
   ],
   "source": [
    "#Checking that user_id is that same data type in both files bc that is the key we're using the merge\n",
    "ords_prods_merged['user_id'].dtype"
   ]
  },
  {
   "cell_type": "code",
   "execution_count": 25,
   "id": "3a303736",
   "metadata": {},
   "outputs": [],
   "source": [
    "#Further wrangling - want to make sure all naming conventions are the same across data sets to make for easier integration\n",
    "ords_prods_merged.columns = [col.capitalize() for col in ords_prods_merged.columns]"
   ]
  },
  {
   "cell_type": "code",
   "execution_count": 26,
   "id": "df85ae86",
   "metadata": {},
   "outputs": [
    {
     "data": {
      "text/html": [
       "<div>\n",
       "<style scoped>\n",
       "    .dataframe tbody tr th:only-of-type {\n",
       "        vertical-align: middle;\n",
       "    }\n",
       "\n",
       "    .dataframe tbody tr th {\n",
       "        vertical-align: top;\n",
       "    }\n",
       "\n",
       "    .dataframe thead th {\n",
       "        text-align: right;\n",
       "    }\n",
       "</style>\n",
       "<table border=\"1\" class=\"dataframe\">\n",
       "  <thead>\n",
       "    <tr style=\"text-align: right;\">\n",
       "      <th></th>\n",
       "      <th>Product_id</th>\n",
       "      <th>Product_name</th>\n",
       "      <th>Aisle_id</th>\n",
       "      <th>Department_id</th>\n",
       "      <th>Prices</th>\n",
       "      <th>Order_id</th>\n",
       "      <th>User_id</th>\n",
       "      <th>Order_number</th>\n",
       "      <th>Orders_day_of_week</th>\n",
       "      <th>Order_hour_of_day</th>\n",
       "      <th>Days_since_last_order</th>\n",
       "      <th>Add_to_cart_order</th>\n",
       "      <th>Reordered</th>\n",
       "      <th>_merge</th>\n",
       "      <th>Price_range_loc</th>\n",
       "      <th>Busiest_day</th>\n",
       "      <th>Busiest_days</th>\n",
       "      <th>Busiest_period_of_day</th>\n",
       "      <th>Max_order</th>\n",
       "      <th>Loyalty_flag</th>\n",
       "      <th>Average_price</th>\n",
       "      <th>Spending_flag</th>\n",
       "      <th>Median_days_since_last_order</th>\n",
       "      <th>Frequency_flag</th>\n",
       "    </tr>\n",
       "  </thead>\n",
       "  <tbody>\n",
       "    <tr>\n",
       "      <th>0</th>\n",
       "      <td>1</td>\n",
       "      <td>Chocolate Sandwich Cookies</td>\n",
       "      <td>61</td>\n",
       "      <td>19</td>\n",
       "      <td>5.8</td>\n",
       "      <td>3139998</td>\n",
       "      <td>138</td>\n",
       "      <td>28</td>\n",
       "      <td>6</td>\n",
       "      <td>11</td>\n",
       "      <td>3.0</td>\n",
       "      <td>5</td>\n",
       "      <td>0</td>\n",
       "      <td>both</td>\n",
       "      <td>Mid-range product</td>\n",
       "      <td>Regularly busy</td>\n",
       "      <td>Regularly busy</td>\n",
       "      <td>Most_orders</td>\n",
       "      <td>32</td>\n",
       "      <td>Regular customer</td>\n",
       "      <td>6.935811</td>\n",
       "      <td>Low spender</td>\n",
       "      <td>8.0</td>\n",
       "      <td>Frequent_customer</td>\n",
       "    </tr>\n",
       "    <tr>\n",
       "      <th>1</th>\n",
       "      <td>1</td>\n",
       "      <td>Chocolate Sandwich Cookies</td>\n",
       "      <td>61</td>\n",
       "      <td>19</td>\n",
       "      <td>5.8</td>\n",
       "      <td>1977647</td>\n",
       "      <td>138</td>\n",
       "      <td>30</td>\n",
       "      <td>6</td>\n",
       "      <td>17</td>\n",
       "      <td>20.0</td>\n",
       "      <td>1</td>\n",
       "      <td>1</td>\n",
       "      <td>both</td>\n",
       "      <td>Mid-range product</td>\n",
       "      <td>Regularly busy</td>\n",
       "      <td>Regularly busy</td>\n",
       "      <td>Average_orders</td>\n",
       "      <td>32</td>\n",
       "      <td>Regular customer</td>\n",
       "      <td>6.935811</td>\n",
       "      <td>Low spender</td>\n",
       "      <td>8.0</td>\n",
       "      <td>Frequent_customer</td>\n",
       "    </tr>\n",
       "    <tr>\n",
       "      <th>2</th>\n",
       "      <td>1</td>\n",
       "      <td>Chocolate Sandwich Cookies</td>\n",
       "      <td>61</td>\n",
       "      <td>19</td>\n",
       "      <td>5.8</td>\n",
       "      <td>389851</td>\n",
       "      <td>709</td>\n",
       "      <td>2</td>\n",
       "      <td>0</td>\n",
       "      <td>21</td>\n",
       "      <td>6.0</td>\n",
       "      <td>20</td>\n",
       "      <td>0</td>\n",
       "      <td>both</td>\n",
       "      <td>Mid-range product</td>\n",
       "      <td>Busiest day</td>\n",
       "      <td>Busiest day</td>\n",
       "      <td>Average_orders</td>\n",
       "      <td>5</td>\n",
       "      <td>New customer</td>\n",
       "      <td>7.930208</td>\n",
       "      <td>Low spender</td>\n",
       "      <td>8.0</td>\n",
       "      <td>Frequent_customer</td>\n",
       "    </tr>\n",
       "    <tr>\n",
       "      <th>3</th>\n",
       "      <td>1</td>\n",
       "      <td>Chocolate Sandwich Cookies</td>\n",
       "      <td>61</td>\n",
       "      <td>19</td>\n",
       "      <td>5.8</td>\n",
       "      <td>652770</td>\n",
       "      <td>764</td>\n",
       "      <td>1</td>\n",
       "      <td>3</td>\n",
       "      <td>13</td>\n",
       "      <td>NaN</td>\n",
       "      <td>10</td>\n",
       "      <td>0</td>\n",
       "      <td>both</td>\n",
       "      <td>Mid-range product</td>\n",
       "      <td>Regularly busy</td>\n",
       "      <td>Second slowest day</td>\n",
       "      <td>Average_orders</td>\n",
       "      <td>3</td>\n",
       "      <td>New customer</td>\n",
       "      <td>4.972414</td>\n",
       "      <td>Low spender</td>\n",
       "      <td>9.0</td>\n",
       "      <td>Frequent_customer</td>\n",
       "    </tr>\n",
       "    <tr>\n",
       "      <th>4</th>\n",
       "      <td>1</td>\n",
       "      <td>Chocolate Sandwich Cookies</td>\n",
       "      <td>61</td>\n",
       "      <td>19</td>\n",
       "      <td>5.8</td>\n",
       "      <td>1813452</td>\n",
       "      <td>764</td>\n",
       "      <td>3</td>\n",
       "      <td>4</td>\n",
       "      <td>17</td>\n",
       "      <td>9.0</td>\n",
       "      <td>11</td>\n",
       "      <td>1</td>\n",
       "      <td>both</td>\n",
       "      <td>Mid-range product</td>\n",
       "      <td>Least busy</td>\n",
       "      <td>Slowest day</td>\n",
       "      <td>Average_orders</td>\n",
       "      <td>3</td>\n",
       "      <td>New customer</td>\n",
       "      <td>4.972414</td>\n",
       "      <td>Low spender</td>\n",
       "      <td>9.0</td>\n",
       "      <td>Frequent_customer</td>\n",
       "    </tr>\n",
       "  </tbody>\n",
       "</table>\n",
       "</div>"
      ],
      "text/plain": [
       "   Product_id                Product_name  Aisle_id  Department_id  Prices  \\\n",
       "0           1  Chocolate Sandwich Cookies        61             19     5.8   \n",
       "1           1  Chocolate Sandwich Cookies        61             19     5.8   \n",
       "2           1  Chocolate Sandwich Cookies        61             19     5.8   \n",
       "3           1  Chocolate Sandwich Cookies        61             19     5.8   \n",
       "4           1  Chocolate Sandwich Cookies        61             19     5.8   \n",
       "\n",
       "   Order_id  User_id  Order_number  Orders_day_of_week  Order_hour_of_day  \\\n",
       "0   3139998      138            28                   6                 11   \n",
       "1   1977647      138            30                   6                 17   \n",
       "2    389851      709             2                   0                 21   \n",
       "3    652770      764             1                   3                 13   \n",
       "4   1813452      764             3                   4                 17   \n",
       "\n",
       "   Days_since_last_order  Add_to_cart_order  Reordered _merge  \\\n",
       "0                    3.0                  5          0   both   \n",
       "1                   20.0                  1          1   both   \n",
       "2                    6.0                 20          0   both   \n",
       "3                    NaN                 10          0   both   \n",
       "4                    9.0                 11          1   both   \n",
       "\n",
       "     Price_range_loc     Busiest_day        Busiest_days  \\\n",
       "0  Mid-range product  Regularly busy      Regularly busy   \n",
       "1  Mid-range product  Regularly busy      Regularly busy   \n",
       "2  Mid-range product     Busiest day         Busiest day   \n",
       "3  Mid-range product  Regularly busy  Second slowest day   \n",
       "4  Mid-range product      Least busy         Slowest day   \n",
       "\n",
       "  Busiest_period_of_day  Max_order      Loyalty_flag  Average_price  \\\n",
       "0           Most_orders         32  Regular customer       6.935811   \n",
       "1        Average_orders         32  Regular customer       6.935811   \n",
       "2        Average_orders          5      New customer       7.930208   \n",
       "3        Average_orders          3      New customer       4.972414   \n",
       "4        Average_orders          3      New customer       4.972414   \n",
       "\n",
       "  Spending_flag  Median_days_since_last_order     Frequency_flag  \n",
       "0   Low spender                           8.0  Frequent_customer  \n",
       "1   Low spender                           8.0  Frequent_customer  \n",
       "2   Low spender                           8.0  Frequent_customer  \n",
       "3   Low spender                           9.0  Frequent_customer  \n",
       "4   Low spender                           9.0  Frequent_customer  "
      ]
     },
     "execution_count": 26,
     "metadata": {},
     "output_type": "execute_result"
    }
   ],
   "source": [
    "ords_prods_merged.head(5)"
   ]
  },
  {
   "cell_type": "code",
   "execution_count": 27,
   "id": "ad285ff3",
   "metadata": {},
   "outputs": [
    {
     "name": "stdout",
     "output_type": "stream",
     "text": [
      "          Product_id                Product_name  Aisle_id  Department_id  \\\n",
      "0                  1  Chocolate Sandwich Cookies        61             19   \n",
      "1                  1  Chocolate Sandwich Cookies        61             19   \n",
      "2                907        Premium Sliced Bacon       106             12   \n",
      "3                907        Premium Sliced Bacon       106             12   \n",
      "4               1000                    Apricots        18             10   \n",
      "...              ...                         ...       ...            ...   \n",
      "32404854       49235         Organic Half & Half        53             16   \n",
      "32404855       49520      Orange Sparkling Water       115              7   \n",
      "32404856       49520      Orange Sparkling Water       115              7   \n",
      "32404857       49520      Orange Sparkling Water       115              7   \n",
      "32404858       49520      Orange Sparkling Water       115              7   \n",
      "\n",
      "          Prices  Order_id  User_id  Order_number  Orders_day_of_week  \\\n",
      "0            5.8   3139998      138            28                   6   \n",
      "1            5.8   1977647      138            30                   6   \n",
      "2           20.0   3160996      138             1                   5   \n",
      "3           20.0   2254091      138            10                   5   \n",
      "4           12.9    505689      138             9                   6   \n",
      "...          ...       ...      ...           ...                 ...   \n",
      "32404854     1.8   2542346    80734             3                   3   \n",
      "32404855     7.5   1363278    74506             1                   1   \n",
      "32404856     7.5   2008002    74506             2                   0   \n",
      "32404857     7.5   1595973    74506             3                   1   \n",
      "32404858     7.5   1680478    74506             4                   0   \n",
      "\n",
      "          Order_hour_of_day  Days_since_last_order  Add_to_cart_order  \\\n",
      "0                        11                    3.0                  5   \n",
      "1                        17                   20.0                  1   \n",
      "2                        13                    NaN                  4   \n",
      "3                        14                    6.0                  1   \n",
      "4                        12                    7.0                  5   \n",
      "...                     ...                    ...                ...   \n",
      "32404854                  8                   22.0                  1   \n",
      "32404855                 14                    NaN                  1   \n",
      "32404856                 15                   30.0                  1   \n",
      "32404857                 17                    8.0                  1   \n",
      "32404858                 16                   13.0                  1   \n",
      "\n",
      "          Reordered _merge     Price_range_loc     Busiest_day  \\\n",
      "0                 0   both   Mid-range product  Regularly busy   \n",
      "1                 1   both   Mid-range product  Regularly busy   \n",
      "2                 0   both  High-range product  Regularly busy   \n",
      "3                 1   both  High-range product  Regularly busy   \n",
      "4                 0   both   Mid-range product  Regularly busy   \n",
      "...             ...    ...                 ...             ...   \n",
      "32404854          1   both   Low-range product  Regularly busy   \n",
      "32404855          0   both   Mid-range product  Regularly busy   \n",
      "32404856          1   both   Mid-range product     Busiest day   \n",
      "32404857          1   both   Mid-range product  Regularly busy   \n",
      "32404858          1   both   Mid-range product     Busiest day   \n",
      "\n",
      "                Busiest_days Busiest_period_of_day  Max_order  \\\n",
      "0             Regularly busy           Most_orders         32   \n",
      "1             Regularly busy        Average_orders         32   \n",
      "2             Regularly busy        Average_orders         32   \n",
      "3             Regularly busy           Most_orders         32   \n",
      "4             Regularly busy        Average_orders         32   \n",
      "...                      ...                   ...        ...   \n",
      "32404854  Second slowest day        Average_orders          3   \n",
      "32404855  Second busiest day           Most_orders          4   \n",
      "32404856         Busiest day        Average_orders          4   \n",
      "32404857  Second busiest day        Average_orders          4   \n",
      "32404858         Busiest day        Average_orders          4   \n",
      "\n",
      "              Loyalty_flag  Average_price Spending_flag  \\\n",
      "0         Regular customer       6.935811   Low spender   \n",
      "1         Regular customer       6.935811   Low spender   \n",
      "2         Regular customer       6.935811   Low spender   \n",
      "3         Regular customer       6.935811   Low spender   \n",
      "4         Regular customer       6.935811   Low spender   \n",
      "...                    ...            ...           ...   \n",
      "32404854      New customer       1.800000   Low spender   \n",
      "32404855      New customer       7.500000   Low spender   \n",
      "32404856      New customer       7.500000   Low spender   \n",
      "32404857      New customer       7.500000   Low spender   \n",
      "32404858      New customer       7.500000   Low spender   \n",
      "\n",
      "          Median_days_since_last_order         Frequency_flag First_name  \\\n",
      "0                                  8.0      Frequent_customer    Charles   \n",
      "1                                  8.0      Frequent_customer    Charles   \n",
      "2                                  8.0      Frequent_customer    Charles   \n",
      "3                                  8.0      Frequent_customer    Charles   \n",
      "4                                  8.0      Frequent_customer    Charles   \n",
      "...                                ...                    ...        ...   \n",
      "32404854                          22.0  Non-frequent_customer      Frank   \n",
      "32404855                          13.0       Regular customer        Joe   \n",
      "32404856                          13.0       Regular customer        Joe   \n",
      "32404857                          13.0       Regular customer        Joe   \n",
      "32404858                          13.0       Regular customer        Joe   \n",
      "\n",
      "         Last_name Gender      State  Age Date_joined  N_dependants  \\\n",
      "0              Cox   Male  Minnesota   81  2019-08-01             1   \n",
      "1              Cox   Male  Minnesota   81  2019-08-01             1   \n",
      "2              Cox   Male  Minnesota   81  2019-08-01             1   \n",
      "3              Cox   Male  Minnesota   81  2019-08-01             1   \n",
      "4              Cox   Male  Minnesota   81  2019-08-01             1   \n",
      "...            ...    ...        ...  ...         ...           ...   \n",
      "32404854    Bowers   Male    Alabama   45  2019-09-28             1   \n",
      "32404855    Coffey   Male    Vermont   44  2018-04-16             3   \n",
      "32404856    Coffey   Male    Vermont   44  2018-04-16             3   \n",
      "32404857    Coffey   Male    Vermont   44  2018-04-16             3   \n",
      "32404858    Coffey   Male    Vermont   44  2018-04-16             3   \n",
      "\n",
      "         Fam_status  Income merge_indicator  \n",
      "0           married   49620            both  \n",
      "1           married   49620            both  \n",
      "2           married   49620            both  \n",
      "3           married   49620            both  \n",
      "4           married   49620            both  \n",
      "...             ...     ...             ...  \n",
      "32404854    married   41072            both  \n",
      "32404855    married   97209            both  \n",
      "32404856    married   97209            both  \n",
      "32404857    married   97209            both  \n",
      "32404858    married   97209            both  \n",
      "\n",
      "[32404859 rows x 34 columns]\n"
     ]
    }
   ],
   "source": [
    "#Full join merge on 'user id' because I want to keep all information for now\n",
    "ords_prods_merged = pd.merge(ords_prods_merged, customers, on='User_id', indicator='merge_indicator')\n",
    "\n",
    "# Display the merged dataframe\n",
    "print(ords_prods_merged)\n"
   ]
  },
  {
   "cell_type": "code",
   "execution_count": null,
   "id": "2d09c0cc",
   "metadata": {},
   "outputs": [],
   "source": [
    "#Removing unncessary columns\n",
    "ords_prods_merged = ords_prods_merged.drop(columns = ['_merge', 'merge_indicator'])"
   ]
  },
  {
   "cell_type": "code",
   "execution_count": null,
   "id": "ea2f39be",
   "metadata": {},
   "outputs": [],
   "source": [
    "ords_prods_merged.head(5)"
   ]
  },
  {
   "cell_type": "code",
   "execution_count": 26,
   "id": "062aef35",
   "metadata": {},
   "outputs": [],
   "source": [
    "ords_prods_merged.to_pickle(os.path.join(path,'02 Data','Prepared Data', 'ords_prods_cust_merged.pkl'))"
   ]
  }
 ],
 "metadata": {
  "kernelspec": {
   "display_name": "Python 3 (ipykernel)",
   "language": "python",
   "name": "python3"
  },
  "language_info": {
   "codemirror_mode": {
    "name": "ipython",
    "version": 3
   },
   "file_extension": ".py",
   "mimetype": "text/x-python",
   "name": "python",
   "nbconvert_exporter": "python",
   "pygments_lexer": "ipython3",
   "version": "3.11.5"
  }
 },
 "nbformat": 4,
 "nbformat_minor": 5
}
